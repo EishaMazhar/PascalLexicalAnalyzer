{
 "cells": [
  {
   "cell_type": "code",
   "execution_count": 16,
   "metadata": {},
   "outputs": [
    {
     "data": {
      "text/plain": [
       "'/mnt/shared-dev/Development/UniProjects/CompilerConstruction/A2'"
      ]
     },
     "execution_count": 16,
     "metadata": {},
     "output_type": "execute_result"
    }
   ],
   "source": [
    "import string\n",
    "import re\n",
    "import pprint\n",
    "os.getcwd()"
   ]
  },
  {
   "cell_type": "code",
   "execution_count": 54,
   "metadata": {},
   "outputs": [],
   "source": [
    "class Token(object):\n",
    "    KEYWORD, ID, SYM, STRCONST, INTCONST, READCONST, ASSIGN, COLON, COMMA, SEMICOLON, DOT, EQ, NQ, LT, LTE, GT, GTE, QUOTE, INTEGER, PLUS, MINUS, MUL, DIV, LPAREN, RPAREN, EOF, TERM, AND, OR, NOT = (\n",
    "    'KEYWORD', 'ID', 'SYM', 'STRCONST', 'INTCONST', 'READCONST', \"ASSIGN\",\n",
    "    \"COLON\", \"COMMA\", \"SEMICOLON\", \"DOT\", \"EQ\", \"NQ\", \"LT\", \"LTE\", \"GT\", \"GTE\",\"QUOTE\", 'INTEGER', 'PLUS', 'MINUS', 'MUL',\n",
    "    'DIV', '(', ')', 'EOF', 'TERM', 'AND', 'OR', 'NOT')\n",
    "\n",
    "    KEYWORDS = (\"PROGRAM\", \"VAR\", \"DIV\", \"INTEGER\", \"REAL\", \"BEGIN\", \"END\",\n",
    "            \"PROCEDURE\")\n",
    "    \n",
    "    def __init__(self, type, value, line_no, pos):\n",
    "        self.type = type\n",
    "        self.value = value\n",
    "        self.line_no = line_no\n",
    "        self.position = pos\n",
    "        self.inverse = False\n",
    "        \n",
    "        self.row = []\n",
    "    \n",
    "\n",
    "    def __str__(self):\n",
    "        \"\"\"String representation of the class instance.\n",
    "\n",
    "        Examples:\n",
    "            Token(TERM, Hello)\n",
    "            Token(AND, '&')\n",
    "            Token(NOT, '!')\n",
    "        \"\"\"\n",
    "        return 'Token({type}, {value}, {line_no}, {position})'.format(type=self.type,\n",
    "                                               value=repr(self.value), line_no=self.line_no, position=self.position)\n",
    "\n",
    "    def __repr__(self):\n",
    "        return self.__str__()\n",
    "\n",
    "\n",
    "class Lexer(object):\n",
    "    def __init__(self, text):\n",
    "        # client string input, e.g. \"hello | world & (why | are | you)\"\n",
    "        self.text = text\n",
    "        # self.pos is an index into self.text\n",
    "        self.pos = 0\n",
    "        self.current_char = self.text[self.pos]\n",
    "        self.line_no = 0\n",
    "        self.symbol_table = {}\n",
    "\n",
    "    def error(self):\n",
    "        raise Exception('Invalid character')\n",
    "\n",
    "    def peek(self):\n",
    "        if self.pos + 1 < len(self.text):\n",
    "            return self.text[self.pos + 1]\n",
    "        else:\n",
    "            return None\n",
    "\n",
    "    def advance(self):\n",
    "        \"\"\"Advance the `pos` pointer and set the `current_char` variable.\"\"\"\n",
    "        self.pos += 1\n",
    "        if '\\n'in [self.current_char]:\n",
    "            self.line_no += 1\n",
    "            \n",
    "        if self.pos > len(self.text) - 1:\n",
    "            self.current_char = None  # Indicates end of input\n",
    "        else:\n",
    "            self.current_char = self.text[self.pos]\n",
    "\n",
    "    def skip_whitespace(self):\n",
    "        while self.current_char is not None and self.current_char.isspace():\n",
    "            self.advance()\n",
    "\n",
    "    def integer(self):\n",
    "        \"\"\"Return a (multidigit) integer consumed from the input.\"\"\"\n",
    "        result = ''\n",
    "        while self.current_char is not None and self.current_char.isdigit():\n",
    "            result += self.current_char\n",
    "            self.advance()\n",
    "        return int(result)\n",
    "\n",
    "    def word(self):\n",
    "        \"\"\"Return a (multidigit) integer consumed from the input.\"\"\"\n",
    "        result = ''\n",
    "        while self.current_char is not None and (self.current_char.isalpha()\n",
    "                                                 or self.current_char == '_'):\n",
    "            result += self.current_char\n",
    "            self.advance()\n",
    "        if result.upper() in Token.KEYWORDS:\n",
    "            return Token(Token.KEYWORD, str(result), self.line_no, self.pos)\n",
    "        else:\n",
    "            self.symbol_table[str(result)] = self.pos\n",
    "            return Token(Token.ID, str(result), self.line_no, self.pos)\n",
    "\n",
    "    def get_next_token(self):\n",
    "        \"\"\"Lexical analyzer (also known as scanner or tokenizer)\n",
    "\n",
    "        This method is responsible for breaking a sentence\n",
    "        apart into tokens. One token at a time.\n",
    "        \"\"\"\n",
    "        while self.current_char is not None:\n",
    "      \n",
    "            if self.current_char.isspace():\n",
    "                self.skip_whitespace()\n",
    "                continue\n",
    "\n",
    "            if self.current_char.isdigit():\n",
    "                return Token(Token.INTCONST, self.integer(), self.line_no, self.pos)\n",
    "\n",
    "            if self.current_char.isalpha():\n",
    "                #                 print('Got Identifier  ' + self.current_char)\n",
    "                return self.word()\n",
    "\n",
    "            if self.current_char == ':' and self.peek() == '=':\n",
    "                self.advance()\n",
    "                self.advance()\n",
    "                return Token(Token.ASSIGN, \":=\", self.line_no, self.pos)\n",
    "\n",
    "            if self.current_char == ':':\n",
    "                self.advance()\n",
    "                return Token(Token.COLON, \":\", self.line_no, self.pos)\n",
    "\n",
    "            if self.current_char == ',':\n",
    "                self.advance()\n",
    "                return Token(Token.COMMA, \",\", self.line_no, self.pos)\n",
    "\n",
    "            if self.current_char == ';':\n",
    "                self.advance()\n",
    "                return Token(Token.SEMICOLON, \";\", self.line_no, self.pos)\n",
    "\n",
    "            if self.current_char == '.':\n",
    "                self.advance()\n",
    "                return Token(Token.DOT, \".\", self.line_no, self.pos)\n",
    "            \n",
    "            if self.current_char == '!':\n",
    "\n",
    "                self.advance()\n",
    "                return Token(Token.NOT, 'NOT', self.line_no, self.pos)\n",
    "\n",
    "            if self.current_char == '&':\n",
    "\n",
    "                self.advance()\n",
    "                return Token(Token.AND, 'AND', self.line_no, self.pos)\n",
    "\n",
    "            if self.current_char == '|':\n",
    "\n",
    "                self.advance()\n",
    "                return Token(Token.OR, 'OR', self.line_no, self.pos)\n",
    "\n",
    "            if self.current_char == '+':\n",
    "                self.advance()\n",
    "                return Token(Token.PLUS, '+', self.line_no, self.pos)\n",
    "\n",
    "            if self.current_char == '-':\n",
    "                self.advance()\n",
    "                return Token(Token.MINUS, '-', self.line_no, self.pos)\n",
    "            \n",
    "            if self.current_char == '\"':\n",
    "                self.advance()\n",
    "                return Token(Token.QUOTE, '\"', self.line_no, self.pos)\n",
    "\n",
    "            if self.current_char == '*':\n",
    "                self.advance()\n",
    "                return Token(Token.MUL, '*', self.line_no, self.pos)\n",
    "\n",
    "            if self.current_char == '/':\n",
    "                self.advance()\n",
    "                return Token(Token.DIV, '/', self.line_no, self.pos)\n",
    "\n",
    "            if self.current_char == '=':\n",
    "                self.advance()\n",
    "                return Token(Token.EQ, \"=\", self.line_no, self.pos)\n",
    "            \n",
    "            if self.current_char == '<' and self.peek() == '>':\n",
    "                self.advance()\n",
    "                self.advance()\n",
    "                return Token(Token.NEQ, \"<=\", self.line_no, self.pos)\n",
    "            \n",
    "            if self.current_char == '<':\n",
    "                self.advance()\n",
    "                return Token(Token.LT, \"<\", self.line_no, self.pos)\n",
    "            \n",
    "            if self.current_char == '<' and self.peek() == '=':\n",
    "                self.advance()\n",
    "                self.advance()\n",
    "                return Token(Token.LTE, \"<=\", self.line_no, self.pos)\n",
    "            \n",
    "            if self.current_char == '>' :\n",
    "                self.advance()\n",
    "                return Token(Token.GT, \">\", self.line_no, self.pos)\n",
    "            \n",
    "            if self.current_char == '>' and self.peek() == '=':\n",
    "                self.advance()\n",
    "                self.advance()\n",
    "                return Token(Token.GTE, \">=\", self.line_no, self.pos)\n",
    "            \n",
    "            if self.current_char == '(':\n",
    "                self.advance()\n",
    "                return Token(Token.LPAREN, '(', self.line_no, self.pos)\n",
    "\n",
    "            if self.current_char == ')':\n",
    "                self.advance()\n",
    "                return Token(Token.RPAREN, ')', self.line_no, self.pos)\n",
    "            print(\"before error \",self.current_char)\n",
    "            self.error()\n",
    "\n",
    "        return Token(Token.EOF, None, self.line_no, self.pos)"
   ]
  },
  {
   "cell_type": "code",
   "execution_count": 38,
   "metadata": {},
   "outputs": [
    {
     "name": "stdout",
     "output_type": "stream",
     "text": [
      "Token(KEYWORD, 'program', 1, 8)\n",
      "Token(ID, 'checkMyAbility', 1, 23)\n",
      "Token(SEMICOLON, ';', 1, 24)\n",
      "Token(KEYWORD, 'var', 2, 28)\n",
      "Token(ID, 'counter', 3, 36)\n",
      "Token(COLON, ':', 3, 37)\n",
      "Token(KEYWORD, 'integer', 3, 45)\n",
      "Token(SEMICOLON, ';', 3, 46)\n",
      "Token(ID, 'number', 4, 53)\n",
      "Token(COLON, ':', 4, 54)\n",
      "Token(KEYWORD, 'integer', 4, 62)\n",
      "Token(SEMICOLON, ';', 4, 63)\n",
      "Token(ID, 'factorial', 5, 73)\n",
      "Token(COLON, ':', 5, 74)\n",
      "Token(KEYWORD, 'integer', 5, 82)\n",
      "Token(SEMICOLON, ';', 5, 83)\n",
      "Token(ID, 'height', 6, 90)\n",
      "Token(COLON, ':', 6, 92)\n",
      "Token(KEYWORD, 'real', 6, 97)\n",
      "Token(SEMICOLON, ';', 6, 98)\n",
      "Token(ID, 'width', 7, 104)\n",
      "Token(COLON, ':', 7, 106)\n",
      "Token(KEYWORD, 'real', 7, 111)\n",
      "Token(SEMICOLON, ';', 7, 112)\n",
      "Token(ID, 'breadth', 8, 120)\n",
      "Token(COLON, ':', 8, 122)\n",
      "Token(KEYWORD, 'real', 8, 127)\n",
      "Token(SEMICOLON, ';', 8, 128)\n",
      "Token(ID, 'volume', 9, 135)\n",
      "Token(COLON, ':', 9, 137)\n",
      "Token(KEYWORD, 'real', 9, 142)\n",
      "Token(SEMICOLON, ';', 9, 143)\n",
      "Token(KEYWORD, 'begin', 10, 149)\n",
      "Token(ID, 'number', 11, 156)\n",
      "Token(ASSIGN, ':=', 11, 159)\n",
      "Token(INTCONST, 6, 11, 161)\n",
      "Token(SEMICOLON, ';', 11, 162)\n",
      "Token(ID, 'counter', 12, 170)\n",
      "Token(ASSIGN, ':=', 12, 173)\n",
      "Token(ID, 'number', 12, 180)\n",
      "Token(SEMICOLON, ';', 12, 181)\n",
      "Token(ID, 'factorial', 13, 191)\n",
      "Token(ASSIGN, ':=', 13, 194)\n",
      "Token(INTCONST, 1, 13, 196)\n",
      "Token(ID, 'while', 14, 202)\n",
      "Token(ID, 'counter', 14, 210)\n",
      "Token(GT, '>', 14, 212)\n",
      "Token(INTCONST, 0, 14, 214)\n",
      "Token(ID, 'do', 14, 217)\n",
      "Token(KEYWORD, 'begin', 14, 223)\n",
      "Token(ID, 'number', 15, 230)\n",
      "Token(ASSIGN, ':=', 15, 233)\n",
      "Token(ID, 'number', 15, 240)\n",
      "Token(MUL, '*', 15, 242)\n",
      "Token(ID, 'counter', 15, 250)\n",
      "Token(SEMICOLON, ';', 15, 251)\n",
      "Token(ID, 'counter', 16, 259)\n",
      "Token(ASSIGN, ':=', 16, 262)\n",
      "Token(ID, 'counter', 16, 270)\n",
      "Token(MINUS, '-', 16, 272)\n",
      "Token(INTCONST, 1, 16, 274)\n",
      "Token(SEMICOLON, ';', 16, 275)\n",
      "Token(KEYWORD, 'end', 17, 279)\n",
      "Token(SEMICOLON, ';', 17, 280)\n",
      "Token(ID, 'height', 18, 287)\n",
      "Token(ASSIGN, ':=', 18, 290)\n",
      "Token(INTCONST, 8, 18, 292)\n",
      "Token(DOT, '.', 18, 293)\n",
      "Token(INTCONST, 5, 18, 294)\n",
      "Token(SEMICOLON, ';', 18, 295)\n",
      "Token(ID, 'width', 19, 301)\n",
      "Token(ASSIGN, ':=', 19, 304)\n",
      "Token(INTCONST, 4, 19, 306)\n",
      "Token(DOT, '.', 19, 307)\n",
      "Token(INTCONST, 5, 19, 308)\n",
      "Token(SEMICOLON, ';', 19, 309)\n",
      "Token(ID, 'breadth', 20, 317)\n",
      "Token(ASSIGN, ':=', 20, 320)\n",
      "Token(INTCONST, 2, 20, 322)\n",
      "Token(DOT, '.', 20, 323)\n",
      "Token(INTCONST, 25, 20, 325)\n",
      "Token(SEMICOLON, ';', 20, 326)\n",
      "Token(ID, 'volume', 21, 333)\n",
      "Token(ASSIGN, ':=', 21, 336)\n",
      "Token(ID, 'height', 21, 343)\n",
      "Token(MUL, '*', 21, 345)\n",
      "Token(ID, 'width', 21, 351)\n",
      "Token(MUL, '*', 21, 353)\n",
      "Token(ID, 'breadth', 21, 361)\n",
      "Token(SEMICOLON, ';', 21, 362)\n",
      "Token(ID, 'if', 22, 365)\n",
      "Token(ID, 'volume', 22, 372)\n",
      "Token(GT, '>', 22, 374)\n",
      "Token(EQ, '=', 22, 375)\n",
      "Token(INTCONST, 100, 22, 379)\n",
      "Token(ID, 'and', 22, 383)\n",
      "Token(ID, 'number', 22, 390)\n",
      "Token(LT, '<', 22, 392)\n",
      "Token(INTCONST, 5, 22, 394)\n",
      "Token(ID, 'then', 22, 399)\n",
      "Token(KEYWORD, 'begin', 22, 405)\n",
      "Token(ID, 'volume', 23, 412)\n",
      "Token(ASSIGN, ':=', 23, 415)\n",
      "Token(ID, 'volume', 23, 422)\n",
      "Token(DIV, '/', 23, 424)\n",
      "Token(INTCONST, 4, 23, 426)\n",
      "Token(SEMICOLON, ';', 23, 427)\n",
      "Token(KEYWORD, 'end', 24, 431)\n",
      "Token(ID, 'else', 25, 436)\n",
      "Token(KEYWORD, 'begin', 25, 442)\n",
      "Token(ID, 'if', 26, 445)\n",
      "Token(ID, 'volume', 26, 452)\n",
      "Token(GT, '>', 26, 454)\n",
      "Token(EQ, '=', 26, 455)\n",
      "Token(INTCONST, 50, 26, 458)\n",
      "Token(ID, 'or', 26, 461)\n",
      "Token(ID, 'number', 26, 468)\n",
      "Token(LT, '<', 26, 470)\n",
      "Token(INTCONST, 10, 26, 473)\n",
      "Token(ID, 'then', 26, 478)\n",
      "Token(KEYWORD, 'begin', 26, 484)\n",
      "Token(ID, 'volume', 27, 491)\n",
      "Token(ASSIGN, ':=', 27, 494)\n",
      "Token(ID, 'volume', 27, 501)\n",
      "Token(DIV, '/', 27, 503)\n",
      "Token(INTCONST, 2, 27, 505)\n",
      "Token(SEMICOLON, ';', 27, 506)\n",
      "Token(KEYWORD, 'end', 28, 510)\n",
      "Token(KEYWORD, 'end', 29, 514)\n",
      "Token(SEMICOLON, ';', 29, 515)\n",
      "Token(ID, 'write', 30, 521)\n",
      "Token((, '(', 30, 522)\n",
      "Token(QUOTE, '\"', 30, 523)\n",
      "Token(ID, 'Factorial', 30, 532)\n",
      "Token(ID, 'of', 30, 535)\n",
      "Token(QUOTE, '\"', 30, 537)\n",
      "Token(), ')', 30, 538)\n",
      "Token(SEMICOLON, ';', 30, 539)\n",
      "Token(ID, 'write', 31, 545)\n",
      "Token((, '(', 31, 546)\n",
      "Token(ID, 'number', 31, 552)\n",
      "Token(), ')', 31, 553)\n",
      "Token(SEMICOLON, ';', 31, 554)\n",
      "Token(ID, 'write', 32, 560)\n",
      "Token((, '(', 32, 561)\n",
      "Token(QUOTE, '\"', 32, 562)\n",
      "Token(ID, 'is', 32, 565)\n",
      "Token(QUOTE, '\"', 32, 567)\n",
      "Token(), ')', 32, 568)\n",
      "Token(SEMICOLON, ';', 32, 569)\n",
      "Token(ID, 'writeln', 33, 577)\n",
      "Token((, '(', 33, 578)\n",
      "Token(ID, 'factorial', 33, 587)\n",
      "Token(), ')', 33, 588)\n",
      "Token(SEMICOLON, ';', 33, 589)\n",
      "Token(ID, 'write', 34, 595)\n",
      "Token((, '(', 34, 596)\n",
      "Token(QUOTE, '\"', 34, 597)\n",
      "Token(ID, 'Some', 34, 601)\n",
      "Token(ID, 'odd', 34, 605)\n",
      "Token(ID, 'value', 34, 611)\n",
      "Token(ID, 'is', 34, 614)\n",
      "Token(COLON, ':', 34, 615)\n",
      "Token(QUOTE, '\"', 34, 617)\n",
      "Token(), ')', 34, 618)\n",
      "Token(SEMICOLON, ';', 34, 619)\n",
      "Token(ID, 'writeln', 35, 627)\n",
      "Token((, '(', 35, 628)\n",
      "Token(ID, 'volume', 35, 634)\n",
      "Token(), ')', 35, 635)\n",
      "Token(SEMICOLON, ';', 35, 636)\n",
      "Token(KEYWORD, 'end', 36, 640)\n",
      "Token(DOT, '.', 36, 641)\n"
     ]
    }
   ],
   "source": [
    "text = \"\"\"\n",
    "\n",
    "\n",
    "\"\"\"\n",
    "\n",
    "lexer = Lexer(text)\n",
    "token = lexer.get_next_token()\n",
    "while token.type != EOF:\n",
    "    print(token)\n",
    "    token = lexer.get_next_token()"
   ]
  },
  {
   "cell_type": "code",
   "execution_count": 55,
   "metadata": {},
   "outputs": [],
   "source": [
    "text = \"\"\n",
    "with open(\"./source_code.pas\", 'r') as pascal_file:\n",
    "    text = \"\".join(pascal_file.readlines())\n"
   ]
  },
  {
   "cell_type": "code",
   "execution_count": 56,
   "metadata": {},
   "outputs": [
    {
     "data": {
      "text/plain": [
       "26"
      ]
     },
     "execution_count": 56,
     "metadata": {},
     "output_type": "execute_result"
    },
    {
     "data": {
      "text/plain": [
       "20"
      ]
     },
     "execution_count": 56,
     "metadata": {},
     "output_type": "execute_result"
    },
    {
     "data": {
      "text/plain": [
       "20"
      ]
     },
     "execution_count": 56,
     "metadata": {},
     "output_type": "execute_result"
    },
    {
     "data": {
      "text/plain": [
       "19"
      ]
     },
     "execution_count": 56,
     "metadata": {},
     "output_type": "execute_result"
    },
    {
     "data": {
      "text/plain": [
       "16"
      ]
     },
     "execution_count": 56,
     "metadata": {},
     "output_type": "execute_result"
    },
    {
     "data": {
      "text/plain": [
       "24"
      ]
     },
     "execution_count": 56,
     "metadata": {},
     "output_type": "execute_result"
    },
    {
     "data": {
      "text/plain": [
       "20"
      ]
     },
     "execution_count": 56,
     "metadata": {},
     "output_type": "execute_result"
    },
    {
     "data": {
      "text/plain": [
       "18"
      ]
     },
     "execution_count": 56,
     "metadata": {},
     "output_type": "execute_result"
    },
    {
     "data": {
      "text/plain": [
       "16"
      ]
     },
     "execution_count": 56,
     "metadata": {},
     "output_type": "execute_result"
    },
    {
     "data": {
      "text/plain": [
       "24"
      ]
     },
     "execution_count": 56,
     "metadata": {},
     "output_type": "execute_result"
    },
    {
     "data": {
      "text/plain": [
       "20"
      ]
     },
     "execution_count": 56,
     "metadata": {},
     "output_type": "execute_result"
    },
    {
     "data": {
      "text/plain": [
       "21"
      ]
     },
     "execution_count": 56,
     "metadata": {},
     "output_type": "execute_result"
    },
    {
     "data": {
      "text/plain": [
       "16"
      ]
     },
     "execution_count": 56,
     "metadata": {},
     "output_type": "execute_result"
    },
    {
     "data": {
      "text/plain": [
       "24"
      ]
     },
     "execution_count": 56,
     "metadata": {},
     "output_type": "execute_result"
    },
    {
     "data": {
      "text/plain": [
       "20"
      ]
     },
     "execution_count": 56,
     "metadata": {},
     "output_type": "execute_result"
    },
    {
     "data": {
      "text/plain": [
       "18"
      ]
     },
     "execution_count": 56,
     "metadata": {},
     "output_type": "execute_result"
    },
    {
     "data": {
      "text/plain": [
       "16"
      ]
     },
     "execution_count": 56,
     "metadata": {},
     "output_type": "execute_result"
    },
    {
     "data": {
      "text/plain": [
       "21"
      ]
     },
     "execution_count": 56,
     "metadata": {},
     "output_type": "execute_result"
    },
    {
     "data": {
      "text/plain": [
       "20"
      ]
     },
     "execution_count": 56,
     "metadata": {},
     "output_type": "execute_result"
    },
    {
     "data": {
      "text/plain": [
       "18"
      ]
     },
     "execution_count": 56,
     "metadata": {},
     "output_type": "execute_result"
    },
    {
     "data": {
      "text/plain": [
       "17"
      ]
     },
     "execution_count": 56,
     "metadata": {},
     "output_type": "execute_result"
    },
    {
     "data": {
      "text/plain": [
       "22"
      ]
     },
     "execution_count": 56,
     "metadata": {},
     "output_type": "execute_result"
    },
    {
     "data": {
      "text/plain": [
       "21"
      ]
     },
     "execution_count": 56,
     "metadata": {},
     "output_type": "execute_result"
    },
    {
     "data": {
      "text/plain": [
       "20"
      ]
     },
     "execution_count": 56,
     "metadata": {},
     "output_type": "execute_result"
    },
    {
     "data": {
      "text/plain": [
       "17"
      ]
     },
     "execution_count": 56,
     "metadata": {},
     "output_type": "execute_result"
    },
    {
     "data": {
      "text/plain": [
       "22"
      ]
     },
     "execution_count": 56,
     "metadata": {},
     "output_type": "execute_result"
    },
    {
     "data": {
      "text/plain": [
       "21"
      ]
     },
     "execution_count": 56,
     "metadata": {},
     "output_type": "execute_result"
    },
    {
     "data": {
      "text/plain": [
       "19"
      ]
     },
     "execution_count": 56,
     "metadata": {},
     "output_type": "execute_result"
    },
    {
     "data": {
      "text/plain": [
       "17"
      ]
     },
     "execution_count": 56,
     "metadata": {},
     "output_type": "execute_result"
    },
    {
     "data": {
      "text/plain": [
       "22"
      ]
     },
     "execution_count": 56,
     "metadata": {},
     "output_type": "execute_result"
    },
    {
     "data": {
      "text/plain": [
       "21"
      ]
     },
     "execution_count": 56,
     "metadata": {},
     "output_type": "execute_result"
    },
    {
     "data": {
      "text/plain": [
       "23"
      ]
     },
     "execution_count": 56,
     "metadata": {},
     "output_type": "execute_result"
    },
    {
     "data": {
      "text/plain": [
       "20"
      ]
     },
     "execution_count": 56,
     "metadata": {},
     "output_type": "execute_result"
    },
    {
     "data": {
      "text/plain": [
       "20"
      ]
     },
     "execution_count": 56,
     "metadata": {},
     "output_type": "execute_result"
    },
    {
     "data": {
      "text/plain": [
       "21"
      ]
     },
     "execution_count": 56,
     "metadata": {},
     "output_type": "execute_result"
    },
    {
     "data": {
      "text/plain": [
       "22"
      ]
     },
     "execution_count": 56,
     "metadata": {},
     "output_type": "execute_result"
    },
    {
     "data": {
      "text/plain": [
       "21"
      ]
     },
     "execution_count": 56,
     "metadata": {},
     "output_type": "execute_result"
    },
    {
     "data": {
      "text/plain": [
       "20"
      ]
     },
     "execution_count": 56,
     "metadata": {},
     "output_type": "execute_result"
    },
    {
     "data": {
      "text/plain": [
       "20"
      ]
     },
     "execution_count": 56,
     "metadata": {},
     "output_type": "execute_result"
    },
    {
     "data": {
      "text/plain": [
       "22"
      ]
     },
     "execution_count": 56,
     "metadata": {},
     "output_type": "execute_result"
    },
    {
     "data": {
      "text/plain": [
       "23"
      ]
     },
     "execution_count": 56,
     "metadata": {},
     "output_type": "execute_result"
    },
    {
     "data": {
      "text/plain": [
       "20"
      ]
     },
     "execution_count": 56,
     "metadata": {},
     "output_type": "execute_result"
    },
    {
     "data": {
      "text/plain": [
       "21"
      ]
     },
     "execution_count": 56,
     "metadata": {},
     "output_type": "execute_result"
    },
    {
     "data": {
      "text/plain": [
       "19"
      ]
     },
     "execution_count": 56,
     "metadata": {},
     "output_type": "execute_result"
    },
    {
     "data": {
      "text/plain": [
       "21"
      ]
     },
     "execution_count": 56,
     "metadata": {},
     "output_type": "execute_result"
    },
    {
     "data": {
      "text/plain": [
       "15"
      ]
     },
     "execution_count": 56,
     "metadata": {},
     "output_type": "execute_result"
    },
    {
     "data": {
      "text/plain": [
       "21"
      ]
     },
     "execution_count": 56,
     "metadata": {},
     "output_type": "execute_result"
    },
    {
     "data": {
      "text/plain": [
       "16"
      ]
     },
     "execution_count": 56,
     "metadata": {},
     "output_type": "execute_result"
    },
    {
     "data": {
      "text/plain": [
       "24"
      ]
     },
     "execution_count": 56,
     "metadata": {},
     "output_type": "execute_result"
    },
    {
     "data": {
      "text/plain": [
       "20"
      ]
     },
     "execution_count": 56,
     "metadata": {},
     "output_type": "execute_result"
    },
    {
     "data": {
      "text/plain": [
       "20"
      ]
     },
     "execution_count": 56,
     "metadata": {},
     "output_type": "execute_result"
    },
    {
     "data": {
      "text/plain": [
       "20"
      ]
     },
     "execution_count": 56,
     "metadata": {},
     "output_type": "execute_result"
    },
    {
     "data": {
      "text/plain": [
       "16"
      ]
     },
     "execution_count": 56,
     "metadata": {},
     "output_type": "execute_result"
    },
    {
     "data": {
      "text/plain": [
       "21"
      ]
     },
     "execution_count": 56,
     "metadata": {},
     "output_type": "execute_result"
    },
    {
     "data": {
      "text/plain": [
       "22"
      ]
     },
     "execution_count": 56,
     "metadata": {},
     "output_type": "execute_result"
    },
    {
     "data": {
      "text/plain": [
       "21"
      ]
     },
     "execution_count": 56,
     "metadata": {},
     "output_type": "execute_result"
    },
    {
     "data": {
      "text/plain": [
       "20"
      ]
     },
     "execution_count": 56,
     "metadata": {},
     "output_type": "execute_result"
    },
    {
     "data": {
      "text/plain": [
       "21"
      ]
     },
     "execution_count": 56,
     "metadata": {},
     "output_type": "execute_result"
    },
    {
     "data": {
      "text/plain": [
       "18"
      ]
     },
     "execution_count": 56,
     "metadata": {},
     "output_type": "execute_result"
    },
    {
     "data": {
      "text/plain": [
       "21"
      ]
     },
     "execution_count": 56,
     "metadata": {},
     "output_type": "execute_result"
    },
    {
     "data": {
      "text/plain": [
       "22"
      ]
     },
     "execution_count": 56,
     "metadata": {},
     "output_type": "execute_result"
    },
    {
     "data": {
      "text/plain": [
       "22"
      ]
     },
     "execution_count": 56,
     "metadata": {},
     "output_type": "execute_result"
    },
    {
     "data": {
      "text/plain": [
       "22"
      ]
     },
     "execution_count": 56,
     "metadata": {},
     "output_type": "execute_result"
    },
    {
     "data": {
      "text/plain": [
       "20"
      ]
     },
     "execution_count": 56,
     "metadata": {},
     "output_type": "execute_result"
    },
    {
     "data": {
      "text/plain": [
       "20"
      ]
     },
     "execution_count": 56,
     "metadata": {},
     "output_type": "execute_result"
    },
    {
     "data": {
      "text/plain": [
       "21"
      ]
     },
     "execution_count": 56,
     "metadata": {},
     "output_type": "execute_result"
    },
    {
     "data": {
      "text/plain": [
       "16"
      ]
     },
     "execution_count": 56,
     "metadata": {},
     "output_type": "execute_result"
    },
    {
     "data": {
      "text/plain": [
       "21"
      ]
     },
     "execution_count": 56,
     "metadata": {},
     "output_type": "execute_result"
    },
    {
     "data": {
      "text/plain": [
       "22"
      ]
     },
     "execution_count": 56,
     "metadata": {},
     "output_type": "execute_result"
    },
    {
     "data": {
      "text/plain": [
       "19"
      ]
     },
     "execution_count": 56,
     "metadata": {},
     "output_type": "execute_result"
    },
    {
     "data": {
      "text/plain": [
       "20"
      ]
     },
     "execution_count": 56,
     "metadata": {},
     "output_type": "execute_result"
    },
    {
     "data": {
      "text/plain": [
       "21"
      ]
     },
     "execution_count": 56,
     "metadata": {},
     "output_type": "execute_result"
    },
    {
     "data": {
      "text/plain": [
       "16"
      ]
     },
     "execution_count": 56,
     "metadata": {},
     "output_type": "execute_result"
    },
    {
     "data": {
      "text/plain": [
       "21"
      ]
     },
     "execution_count": 56,
     "metadata": {},
     "output_type": "execute_result"
    },
    {
     "data": {
      "text/plain": [
       "22"
      ]
     },
     "execution_count": 56,
     "metadata": {},
     "output_type": "execute_result"
    },
    {
     "data": {
      "text/plain": [
       "21"
      ]
     },
     "execution_count": 56,
     "metadata": {},
     "output_type": "execute_result"
    },
    {
     "data": {
      "text/plain": [
       "20"
      ]
     },
     "execution_count": 56,
     "metadata": {},
     "output_type": "execute_result"
    },
    {
     "data": {
      "text/plain": [
       "21"
      ]
     },
     "execution_count": 56,
     "metadata": {},
     "output_type": "execute_result"
    },
    {
     "data": {
      "text/plain": [
       "16"
      ]
     },
     "execution_count": 56,
     "metadata": {},
     "output_type": "execute_result"
    },
    {
     "data": {
      "text/plain": [
       "22"
      ]
     },
     "execution_count": 56,
     "metadata": {},
     "output_type": "execute_result"
    },
    {
     "data": {
      "text/plain": [
       "22"
      ]
     },
     "execution_count": 56,
     "metadata": {},
     "output_type": "execute_result"
    },
    {
     "data": {
      "text/plain": [
       "20"
      ]
     },
     "execution_count": 56,
     "metadata": {},
     "output_type": "execute_result"
    },
    {
     "data": {
      "text/plain": [
       "20"
      ]
     },
     "execution_count": 56,
     "metadata": {},
     "output_type": "execute_result"
    },
    {
     "data": {
      "text/plain": [
       "20"
      ]
     },
     "execution_count": 56,
     "metadata": {},
     "output_type": "execute_result"
    },
    {
     "data": {
      "text/plain": [
       "16"
      ]
     },
     "execution_count": 56,
     "metadata": {},
     "output_type": "execute_result"
    },
    {
     "data": {
      "text/plain": [
       "19"
      ]
     },
     "execution_count": 56,
     "metadata": {},
     "output_type": "execute_result"
    },
    {
     "data": {
      "text/plain": [
       "16"
      ]
     },
     "execution_count": 56,
     "metadata": {},
     "output_type": "execute_result"
    },
    {
     "data": {
      "text/plain": [
       "21"
      ]
     },
     "execution_count": 56,
     "metadata": {},
     "output_type": "execute_result"
    },
    {
     "data": {
      "text/plain": [
       "22"
      ]
     },
     "execution_count": 56,
     "metadata": {},
     "output_type": "execute_result"
    },
    {
     "data": {
      "text/plain": [
       "16"
      ]
     },
     "execution_count": 56,
     "metadata": {},
     "output_type": "execute_result"
    },
    {
     "data": {
      "text/plain": [
       "20"
      ]
     },
     "execution_count": 56,
     "metadata": {},
     "output_type": "execute_result"
    },
    {
     "data": {
      "text/plain": [
       "15"
      ]
     },
     "execution_count": 56,
     "metadata": {},
     "output_type": "execute_result"
    },
    {
     "data": {
      "text/plain": [
       "15"
      ]
     },
     "execution_count": 56,
     "metadata": {},
     "output_type": "execute_result"
    },
    {
     "data": {
      "text/plain": [
       "23"
      ]
     },
     "execution_count": 56,
     "metadata": {},
     "output_type": "execute_result"
    },
    {
     "data": {
      "text/plain": [
       "17"
      ]
     },
     "execution_count": 56,
     "metadata": {},
     "output_type": "execute_result"
    },
    {
     "data": {
      "text/plain": [
       "20"
      ]
     },
     "execution_count": 56,
     "metadata": {},
     "output_type": "execute_result"
    },
    {
     "data": {
      "text/plain": [
       "15"
      ]
     },
     "execution_count": 56,
     "metadata": {},
     "output_type": "execute_result"
    },
    {
     "data": {
      "text/plain": [
       "21"
      ]
     },
     "execution_count": 56,
     "metadata": {},
     "output_type": "execute_result"
    },
    {
     "data": {
      "text/plain": [
       "18"
      ]
     },
     "execution_count": 56,
     "metadata": {},
     "output_type": "execute_result"
    },
    {
     "data": {
      "text/plain": [
       "24"
      ]
     },
     "execution_count": 56,
     "metadata": {},
     "output_type": "execute_result"
    },
    {
     "data": {
      "text/plain": [
       "20"
      ]
     },
     "execution_count": 56,
     "metadata": {},
     "output_type": "execute_result"
    },
    {
     "data": {
      "text/plain": [
       "20"
      ]
     },
     "execution_count": 56,
     "metadata": {},
     "output_type": "execute_result"
    },
    {
     "data": {
      "text/plain": [
       "20"
      ]
     },
     "execution_count": 56,
     "metadata": {},
     "output_type": "execute_result"
    },
    {
     "data": {
      "text/plain": [
       "16"
      ]
     },
     "execution_count": 56,
     "metadata": {},
     "output_type": "execute_result"
    },
    {
     "data": {
      "text/plain": [
       "21"
      ]
     },
     "execution_count": 56,
     "metadata": {},
     "output_type": "execute_result"
    },
    {
     "data": {
      "text/plain": [
       "22"
      ]
     },
     "execution_count": 56,
     "metadata": {},
     "output_type": "execute_result"
    },
    {
     "data": {
      "text/plain": [
       "22"
      ]
     },
     "execution_count": 56,
     "metadata": {},
     "output_type": "execute_result"
    },
    {
     "data": {
      "text/plain": [
       "18"
      ]
     },
     "execution_count": 56,
     "metadata": {},
     "output_type": "execute_result"
    },
    {
     "data": {
      "text/plain": [
       "24"
      ]
     },
     "execution_count": 56,
     "metadata": {},
     "output_type": "execute_result"
    },
    {
     "data": {
      "text/plain": [
       "16"
      ]
     },
     "execution_count": 56,
     "metadata": {},
     "output_type": "execute_result"
    },
    {
     "data": {
      "text/plain": [
       "20"
      ]
     },
     "execution_count": 56,
     "metadata": {},
     "output_type": "execute_result"
    },
    {
     "data": {
      "text/plain": [
       "15"
      ]
     },
     "execution_count": 56,
     "metadata": {},
     "output_type": "execute_result"
    },
    {
     "data": {
      "text/plain": [
       "15"
      ]
     },
     "execution_count": 56,
     "metadata": {},
     "output_type": "execute_result"
    },
    {
     "data": {
      "text/plain": [
       "22"
      ]
     },
     "execution_count": 56,
     "metadata": {},
     "output_type": "execute_result"
    },
    {
     "data": {
      "text/plain": [
       "16"
      ]
     },
     "execution_count": 56,
     "metadata": {},
     "output_type": "execute_result"
    },
    {
     "data": {
      "text/plain": [
       "20"
      ]
     },
     "execution_count": 56,
     "metadata": {},
     "output_type": "execute_result"
    },
    {
     "data": {
      "text/plain": [
       "15"
      ]
     },
     "execution_count": 56,
     "metadata": {},
     "output_type": "execute_result"
    },
    {
     "data": {
      "text/plain": [
       "22"
      ]
     },
     "execution_count": 56,
     "metadata": {},
     "output_type": "execute_result"
    },
    {
     "data": {
      "text/plain": [
       "18"
      ]
     },
     "execution_count": 56,
     "metadata": {},
     "output_type": "execute_result"
    },
    {
     "data": {
      "text/plain": [
       "24"
      ]
     },
     "execution_count": 56,
     "metadata": {},
     "output_type": "execute_result"
    },
    {
     "data": {
      "text/plain": [
       "20"
      ]
     },
     "execution_count": 56,
     "metadata": {},
     "output_type": "execute_result"
    },
    {
     "data": {
      "text/plain": [
       "20"
      ]
     },
     "execution_count": 56,
     "metadata": {},
     "output_type": "execute_result"
    },
    {
     "data": {
      "text/plain": [
       "20"
      ]
     },
     "execution_count": 56,
     "metadata": {},
     "output_type": "execute_result"
    },
    {
     "data": {
      "text/plain": [
       "16"
      ]
     },
     "execution_count": 56,
     "metadata": {},
     "output_type": "execute_result"
    },
    {
     "data": {
      "text/plain": [
       "21"
      ]
     },
     "execution_count": 56,
     "metadata": {},
     "output_type": "execute_result"
    },
    {
     "data": {
      "text/plain": [
       "22"
      ]
     },
     "execution_count": 56,
     "metadata": {},
     "output_type": "execute_result"
    },
    {
     "data": {
      "text/plain": [
       "22"
      ]
     },
     "execution_count": 56,
     "metadata": {},
     "output_type": "execute_result"
    },
    {
     "data": {
      "text/plain": [
       "22"
      ]
     },
     "execution_count": 56,
     "metadata": {},
     "output_type": "execute_result"
    },
    {
     "data": {
      "text/plain": [
       "22"
      ]
     },
     "execution_count": 56,
     "metadata": {},
     "output_type": "execute_result"
    },
    {
     "data": {
      "text/plain": [
       "19"
      ]
     },
     "execution_count": 56,
     "metadata": {},
     "output_type": "execute_result"
    },
    {
     "data": {
      "text/plain": [
       "14"
      ]
     },
     "execution_count": 56,
     "metadata": {},
     "output_type": "execute_result"
    },
    {
     "data": {
      "text/plain": [
       "18"
      ]
     },
     "execution_count": 56,
     "metadata": {},
     "output_type": "execute_result"
    },
    {
     "data": {
      "text/plain": [
       "23"
      ]
     },
     "execution_count": 56,
     "metadata": {},
     "output_type": "execute_result"
    },
    {
     "data": {
      "text/plain": [
       "16"
      ]
     },
     "execution_count": 56,
     "metadata": {},
     "output_type": "execute_result"
    },
    {
     "data": {
      "text/plain": [
       "18"
      ]
     },
     "execution_count": 56,
     "metadata": {},
     "output_type": "execute_result"
    },
    {
     "data": {
      "text/plain": [
       "14"
      ]
     },
     "execution_count": 56,
     "metadata": {},
     "output_type": "execute_result"
    },
    {
     "data": {
      "text/plain": [
       "22"
      ]
     },
     "execution_count": 56,
     "metadata": {},
     "output_type": "execute_result"
    },
    {
     "data": {
      "text/plain": [
       "19"
      ]
     },
     "execution_count": 56,
     "metadata": {},
     "output_type": "execute_result"
    },
    {
     "data": {
      "text/plain": [
       "14"
      ]
     },
     "execution_count": 56,
     "metadata": {},
     "output_type": "execute_result"
    },
    {
     "data": {
      "text/plain": [
       "20"
      ]
     },
     "execution_count": 56,
     "metadata": {},
     "output_type": "execute_result"
    },
    {
     "data": {
      "text/plain": [
       "14"
      ]
     },
     "execution_count": 56,
     "metadata": {},
     "output_type": "execute_result"
    },
    {
     "data": {
      "text/plain": [
       "22"
      ]
     },
     "execution_count": 56,
     "metadata": {},
     "output_type": "execute_result"
    },
    {
     "data": {
      "text/plain": [
       "19"
      ]
     },
     "execution_count": 56,
     "metadata": {},
     "output_type": "execute_result"
    },
    {
     "data": {
      "text/plain": [
       "14"
      ]
     },
     "execution_count": 56,
     "metadata": {},
     "output_type": "execute_result"
    },
    {
     "data": {
      "text/plain": [
       "18"
      ]
     },
     "execution_count": 56,
     "metadata": {},
     "output_type": "execute_result"
    },
    {
     "data": {
      "text/plain": [
       "16"
      ]
     },
     "execution_count": 56,
     "metadata": {},
     "output_type": "execute_result"
    },
    {
     "data": {
      "text/plain": [
       "18"
      ]
     },
     "execution_count": 56,
     "metadata": {},
     "output_type": "execute_result"
    },
    {
     "data": {
      "text/plain": [
       "14"
      ]
     },
     "execution_count": 56,
     "metadata": {},
     "output_type": "execute_result"
    },
    {
     "data": {
      "text/plain": [
       "22"
      ]
     },
     "execution_count": 56,
     "metadata": {},
     "output_type": "execute_result"
    },
    {
     "data": {
      "text/plain": [
       "21"
      ]
     },
     "execution_count": 56,
     "metadata": {},
     "output_type": "execute_result"
    },
    {
     "data": {
      "text/plain": [
       "14"
      ]
     },
     "execution_count": 56,
     "metadata": {},
     "output_type": "execute_result"
    },
    {
     "data": {
      "text/plain": [
       "23"
      ]
     },
     "execution_count": 56,
     "metadata": {},
     "output_type": "execute_result"
    },
    {
     "data": {
      "text/plain": [
       "14"
      ]
     },
     "execution_count": 56,
     "metadata": {},
     "output_type": "execute_result"
    },
    {
     "data": {
      "text/plain": [
       "22"
      ]
     },
     "execution_count": 56,
     "metadata": {},
     "output_type": "execute_result"
    },
    {
     "data": {
      "text/plain": [
       "19"
      ]
     },
     "execution_count": 56,
     "metadata": {},
     "output_type": "execute_result"
    },
    {
     "data": {
      "text/plain": [
       "14"
      ]
     },
     "execution_count": 56,
     "metadata": {},
     "output_type": "execute_result"
    },
    {
     "data": {
      "text/plain": [
       "18"
      ]
     },
     "execution_count": 56,
     "metadata": {},
     "output_type": "execute_result"
    },
    {
     "data": {
      "text/plain": [
       "18"
      ]
     },
     "execution_count": 56,
     "metadata": {},
     "output_type": "execute_result"
    },
    {
     "data": {
      "text/plain": [
       "17"
      ]
     },
     "execution_count": 56,
     "metadata": {},
     "output_type": "execute_result"
    },
    {
     "data": {
      "text/plain": [
       "19"
      ]
     },
     "execution_count": 56,
     "metadata": {},
     "output_type": "execute_result"
    },
    {
     "data": {
      "text/plain": [
       "16"
      ]
     },
     "execution_count": 56,
     "metadata": {},
     "output_type": "execute_result"
    },
    {
     "data": {
      "text/plain": [
       "18"
      ]
     },
     "execution_count": 56,
     "metadata": {},
     "output_type": "execute_result"
    },
    {
     "data": {
      "text/plain": [
       "18"
      ]
     },
     "execution_count": 56,
     "metadata": {},
     "output_type": "execute_result"
    },
    {
     "data": {
      "text/plain": [
       "14"
      ]
     },
     "execution_count": 56,
     "metadata": {},
     "output_type": "execute_result"
    },
    {
     "data": {
      "text/plain": [
       "22"
      ]
     },
     "execution_count": 56,
     "metadata": {},
     "output_type": "execute_result"
    },
    {
     "data": {
      "text/plain": [
       "21"
      ]
     },
     "execution_count": 56,
     "metadata": {},
     "output_type": "execute_result"
    },
    {
     "data": {
      "text/plain": [
       "14"
      ]
     },
     "execution_count": 56,
     "metadata": {},
     "output_type": "execute_result"
    },
    {
     "data": {
      "text/plain": [
       "20"
      ]
     },
     "execution_count": 56,
     "metadata": {},
     "output_type": "execute_result"
    },
    {
     "data": {
      "text/plain": [
       "14"
      ]
     },
     "execution_count": 56,
     "metadata": {},
     "output_type": "execute_result"
    },
    {
     "data": {
      "text/plain": [
       "22"
      ]
     },
     "execution_count": 56,
     "metadata": {},
     "output_type": "execute_result"
    },
    {
     "data": {
      "text/plain": [
       "22"
      ]
     },
     "execution_count": 56,
     "metadata": {},
     "output_type": "execute_result"
    },
    {
     "data": {
      "text/plain": [
       "16"
      ]
     },
     "execution_count": 56,
     "metadata": {},
     "output_type": "execute_result"
    },
    {
     "data": {
      "text/plain": [
       "19"
      ]
     },
     "execution_count": 56,
     "metadata": {},
     "output_type": "execute_result"
    }
   ],
   "source": [
    "lexer = Lexer(text)\n",
    "token = lexer.get_next_token()\n",
    "\n",
    "with open(\"pascal_tokens.csv\", 'w') as token_file:\n",
    "    while token.type != EOF:\n",
    "#         print(token)\n",
    "        token = lexer.get_next_token()\n",
    "        token_file.write(f\"{token.type}, {token.value}, {token.line_no}, {token.position}\\n\")"
   ]
  },
  {
   "cell_type": "code",
   "execution_count": 57,
   "metadata": {},
   "outputs": [
    {
     "data": {
      "text/plain": [
       "{'checkMyAbility': 22,\n",
       " 'counter': 269,\n",
       " 'number': 551,\n",
       " 'factorial': 586,\n",
       " 'height': 342,\n",
       " 'width': 350,\n",
       " 'breadth': 360,\n",
       " 'volume': 633,\n",
       " 'while': 201,\n",
       " 'do': 216,\n",
       " 'if': 444,\n",
       " 'and': 382,\n",
       " 'then': 477,\n",
       " 'else': 435,\n",
       " 'or': 460,\n",
       " 'write': 594,\n",
       " 'Factorial': 531,\n",
       " 'of': 534,\n",
       " 'is': 613,\n",
       " 'writeln': 626,\n",
       " 'Some': 600,\n",
       " 'odd': 604,\n",
       " 'value': 610}"
      ]
     },
     "execution_count": 57,
     "metadata": {},
     "output_type": "execute_result"
    }
   ],
   "source": [
    "lexer.symbol_table"
   ]
  },
  {
   "cell_type": "code",
   "execution_count": null,
   "metadata": {},
   "outputs": [],
   "source": []
  }
 ],
 "metadata": {
  "kernelspec": {
   "display_name": "Python 3",
   "language": "python",
   "name": "python3"
  },
  "language_info": {
   "codemirror_mode": {
    "name": "ipython",
    "version": 3
   },
   "file_extension": ".py",
   "mimetype": "text/x-python",
   "name": "python",
   "nbconvert_exporter": "python",
   "pygments_lexer": "ipython3",
   "version": "3.7.9"
  }
 },
 "nbformat": 4,
 "nbformat_minor": 4
}